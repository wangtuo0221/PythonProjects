{
 "cells": [
  {
   "cell_type": "code",
   "execution_count": 37,
   "metadata": {},
   "outputs": [
    {
     "name": "stdout",
     "output_type": "stream",
     "text": [
      "<!DOCTYPE html><html lang=\"cn\"><head><script>window._speedMark = new Date();  window.lead_ip = '123.116.144.226';\n",
      "    window.now = 1581750636782;</script><meta charset=\"utf-8\"><link rel=\"dns-prefetch\" href=\"//img01.sogoucdn.com\"><link rel=\"dns-prefetch\" href=\"//img02.sogoucdn.com\"><link rel=\"dns-prefetch\" href=\"//img03.sogoucdn.com\"><link rel=\"dns-prefetch\" href=\"//img04.sogoucdn.com\"><link rel=\"dns-prefetch\" href=\"//dlweb.sogoucdn.com\"><title>搜狗搜索引擎 - 上网从搜狗开始</title><link rel=\"shortcut icon\" href=\"/images/logo/new/favicon.ico?v=4\" type=\"image/x-icon\"><meta http-equiv=\"X-UA-Compatible\" content=\"IE=Edge\"><link rel=\"search\" type=\"application/opensearchdescription+xml\" href=\"/content-search.xml\" title=\"搜狗搜索\"><meta name=\"keywords\" content=\"搜狗搜索,网页搜索,微信搜索,视频搜索,图片搜索,音乐搜索,新闻搜索,软件搜索,问答搜索,百科搜索,购物搜索\"><meta name=\"description\" content=\"搜狗搜索是全球第三代互动式搜索引擎，支持微信公众号和文章搜索、知乎搜索、英文搜索及翻译等，通过自主研发的人工智能算法为用户提供专业、精准、便捷的搜索服务。\"> <link rel=\"stylesheet\" type=\"text/css\" href=\"/web/index/css/base.v.1.5.1.css\">  <style>.wrapper .suggestion{border:1px solid #e8e8e8;width:622px;-moz-box-shadow:0 1px 8px rgba(0,0,0,.1);-webkit-box-shadow:0 1px 8px rgba(0,0,0,.1);box-shadow:0 1px 8px rgba(0,0,0,.1);border-top-left-radius:0;border-top-right-radius:0;border-bottom-right-radius:2px;border-bottom-left-radius:2px;top:43px}.wrapper .suglist{width:206px}.wrapper .suglist .keyword{color:#7a77c8}.big-scn .suggestion{width:654px}.big-scn .suglist{width:236px}.wrapper .suglist{padding:4px 0}</style></head><body color-style=\"white\"><div class=\"wrapper \" id=\"wrap\"><div class=\"header\"> <div class=\"top-nav\"><ul><li><a onclick=\"st(this,'40030300','news')\" href=\"http://news.sogou.com\" uigs-id=\"nav_news\" id=\"news\">新闻</a></li><li class=\"cur\"><span>网页</span></li><li><a onclick=\"st(this,'73141200','weixin')\" href=\"http://weixin.sogou.com/\" uigs-id=\"nav_weixin\" id=\"weixinch\">微信</a></li><li><a onclick=\"st(this,'40051200','zhihu')\" href=\"http://zhihu.sogou.com/\" uigs-id=\"nav_zhihu\" id=\"zhihu\">知乎</a></li><li><a onclick=\"st(this,'40030500','pic')\" href=\"http://pic.sogou.com\" uigs-id=\"nav_pic\" id=\"pic\">图片</a></li><li><a onclick=\"st(this,'40030600','video')\" href=\"https://v.sogou.com/\" uigs-id=\"nav_v\" id=\"video\">视频</a></li><li><a href=\"http://mingyi.sogou.com?fr=common_index_nav\" uigs-id=\"nav_mingyi\" id=\"mingyi\" onclick=\"st(this,'','myingyi')\">明医</a></li><li><a href=\"http://english.sogou.com?fr=pcweb_index_nav\" uigs-id=\"nav_overseas\" id=\"overseas\" onclick=\"st(this,'','overseas')\">英文</a></li><li><a onclick=\"st(this,'web2ww','wenwen')\" href=\"https://wenwen.sogou.com/?ch=websearch\" uigs-id=\"nav_wenwen\" id=\"index_more_wenwen\">问问</a></li><li><a href=\"http://scholar.sogou.com?fr=common_index_nav\" uigs-id=\"nav_scholar\" id=\"scholar\" onclick=\"st(this,'','scholar')\">学术</a></li><li class=\"show-more\"><a href=\"javascript:void(0);\" id=\"more-product\">更多<i class=\"m-arr\"></i></a><div class=\"pos-more\" id=\"products-box\" style=\"top:40px\"><span class=\"ico-san\"></span><a onclick=\"st(this,'40031000')\" href=\"http://map.sogou.com\" uigs-id=\"nav_map\" id=\"map\">地图</a><a onclick=\"st(this,'40031500')\" href=\"http://gouwu.sogou.com/\" uigs-id=\"nav_gouwu\" id=\"index_more_gouwu\">购物</a><a onclick=\"st(this,'40051203')\" href=\"http://baike.sogou.com/Home.v\" uigs-id=\"nav_baike\" id=\"index_more_baike\">百科</a><a onclick=\"st(this)\" href=\"http://zhishi.sogou.com\" uigs-id=\"nav_zhishi\" id=\"index_more_zhishi\">知识</a><a onclick=\"st(this,'40051205')\" href=\"http://as.sogou.com/\" uigs-id=\"nav_app\" id=\"index_more_appli\">应用</a><a onclick=\"st(this,'40051205','fanyi')\" href=\"http://fanyi.sogou.com?fr=common_index_nav_pc\" uigs-id=\"nav_fanyi\" id=\"index_more_fanyi\">翻译</a><a href=\"http://index.sogou.com\" uigs-id=\"nav_index\" id=\"index_more_index\">指数</a>  <a href=\"http://dangjian.sogou.com\" uigs-id=\"nav_dangjian\" id=\"dangjian\" onclick=\"st(this,'','dangjian')\">党建</a>  <span class=\"all\"><a onclick=\"st(this,'40051206')\" href=\"http://www.sogou.com/docs/more.htm?v=1\" uigs-id=\"nav_all\" target=\"_blank\">全部</a></span></div></li></ul></div><div class=\"user-box\"><div class=\"local-weather\" id=\"local-weather\"><div class=\"wea-box\" id=\"cur-weather\" style=\"display:none\"></div>  <div class=\"pos-more\" id=\"detail-weather\" style=\"top:40px;left:-80px\"></div>  </div><span class=\"line\" id=\"user-box-line\" style=\"display:none\"></span><div class=\"user-enter\"><a href=\"javascript:void(0);\" id=\"show-card\"  style=\"display:none\"  uigs-id=\"settings_show-card\">显示卡片</a>  <a href=\"javascript:void(0);\" class=\"enter\" id=\"loginBtn\">登录</a>  </div></div></div><div class=\"content\" id=\"content\"><div class=\"pos-header\" id=\"top-float-bar\"><div class=\"part-one\"></div><div class=\"part-two\" id=\"card-tab-layer\"><div class=\"c-top\" id=\"top-card-tab\"></div></div></div><div class=\"logo2\" id=\"logo-s\"><span></span></div><div class=\"logo\" id=\"logo-l\"><span></span></div> <div class=\"search-box\" id=\"search-box\"><form action=\"/web\" name=\"sf\" id=\"sf\"><span class=\"sec-input-box\"><input type=\"text\" class=\"sec-input active\" name=\"query\" id=\"query\" maxlength=\"100\" len=\"80\" autocomplete=\"off\"></span><span class=\"enter-input\"><input type=\"submit\" value=\"\" id=\"stb\"></span><input type=\"hidden\" name=\"_asf\" value=\"www.sogou.com\"> <input type=\"hidden\" name=\"_ast\"> <input type=\"hidden\" name=\"w\" value=\"01019900\"> <input type=\"hidden\" name=\"p\" value=\"40040100\"> <input type=\"hidden\" name=\"ie\" value=\"utf8\">  <input type=\"hidden\" name=\"from\" value=\"index-nologin\">  <input type=\"hidden\" name=\"s_from\" value=\"index\"><div class=\"keywords-tips\" id=\"keywordsTips\" style=\"display:none\"><i></i><p>搜狗的查询限制在\"<strong>40个汉字</strong>\"以内。</p></div></form></div>  </div><div class=\"card-box\" id=\"card-box\" style=\"display:none\"><div class=\"card-box2\" id=\"card-box2\"><div class=\"c-top\" id=\"card-tab-box\"><a href=\"javascript:void(0);\" uigs-id=\"settings_close-card\" id=\"close-card\" class=\"shezhi\"></a></div><div class=\"c-main\" id=\"card-content\"></div></div></div><div class=\"loog-more\" id=\"scroll-more\" style=\"display:none\"><a href=\"javascript:void(0);\" uigs-id=\"scroll-more\">滚动查看更多<br><span class=\"ico_san\"></span></a></div><div class=\"ft\" id=\"footer\"  style=\"display:none\" ><a href=\"http://b.sogou.com/\" target=\"_blank\" uigs-id=\"footer_tuiguang\">企业推广</a><span class=\"line\"></span><a href=\"http://corp.sogou.com/\" target=\"_blank\" uigs-id=\"footer_about\">关于搜狗</a><span class=\"line\"></span><a href=\"http://ir.sogou.com/\" target=\"_blank\" uigs-id=\"footer_aboutEnglish\">About Sogou</a><span class=\"line\"></span><a href=\"http://www.sogou.com/docs/terms.htm?v=1\" target=\"_blank\" uigs-id=\"footer_disclaimer\">免责声明</a><span class=\"line\"></span><a href=\"http://fankui.help.sogou.com/index.php/web/web/index/type/4\" target=\"_blank\" uigs-id=\"footer_feedback\">意见反馈及投诉</a><span class=\"line\"></span><a href=\"http://corp.sogou.com/private.html\" target=\"_blank\" uigs-id=\"footer_private\">隐私政策</a><br>&copy;&nbsp;2004-2020&nbsp;Sogou.com&nbsp;/&nbsp;<span class=\"g\">京网文 (2016) 6432-852号</span>&nbsp;/&nbsp;<a href=\"http://www.miibeian.gov.cn\" target=\"_blank\" class=\"g\">京ICP证050897号</a><br><span class=\"g\">(京)-经营性-2016-0019</span>&nbsp;/&nbsp;<a href=\"http://www.miibeian.gov.cn/\" target=\"_blank\" class=\"g\">京ICP备11001839号-1</a>&nbsp;/&nbsp;<a href=\"http://www.beian.gov.cn/portal/registerSystemInfo?recordcode=11000002000025\" class=\"ba\" target=\"_blank\">京公网安备11000002000025号</a></div>  <div class=\"ft-v1\" id=\"QRcode-footer\" style=\"padding-bottom:28px\"><div class=\"erwm-box\"><span class=\"ewm\"><img src=\"/web/index/images/erweima2.png\" alt=\"\"></span><div class=\"erwx\"><p>下载搜狗搜索APP</p></div></div><div class=\"ft-info\"><a uigs-id=\"mid_pinyin\" href=\"http://pinyin.sogou.com/\" target=\"_blank\"><i class=\"i1\"></i>搜狗输入法</a><span class=\"line\"></span><a uigs-id=\"mid_liulanqi\" href=\"http://ie.sogou.com/\" target=\"_blank\"><i class=\"i2\"></i>浏览器</a><span class=\"line\"></span><a uigs-id=\"mid_daohang\" href=\"http://123.sogou.com/\" target=\"_blank\"><i class=\"i3\"></i>网址导航</a><br><a href=\"http://corp.sogou.com/\" target=\"_blank\" class=\"g\">关于搜狗</a>&nbsp;-&nbsp;<a href=\"http://ir.sogou.com/\" target=\"_blank\" class=\"g\">About Sogou</a>&nbsp;-&nbsp;<a href=\"http://b.sogou.com/\" target=\"_blank\" class=\"g\">企业推广</a>&nbsp;-&nbsp;<a href=\"http://www.sogou.com/docs/terms.htm?v=1\" target=\"_blank\" class=\"g\">免责声明</a>&nbsp;-&nbsp;<a href=\"http://fankui.help.sogou.com/index.php/web/web/index/type/4\" target=\"_blank\" class=\"g\">意见反馈及投诉</a>&nbsp;-&nbsp;<a href=\"http://corp.sogou.com/private.html\" target=\"_blank\" class=\"g\" uigs-id=\"footer_private\">隐私政策</a><br>&copy;&nbsp;2004-2020&nbsp;Sogou.com&nbsp;/&nbsp;<span class=\"g\">京网文 (2016) 6432-852号</span>&nbsp;/&nbsp;<span class=\"g\">(京)-经营性-2016-0019</span><br><span class=\"g\">京ICP证050897号</span>&nbsp;/&nbsp;<span class=\"g\">京ICP备11001839号-1</span>&nbsp;/&nbsp;<a href=\"http://www.beian.gov.cn/portal/registerSystemInfo?recordcode=11000002000025\" class=\"ba\" target=\"_blank\">京公网安备11000002000025号</a></div></div> <div class=\"kuozhan\" id=\"QRcode-box\" style=\"display:none\"><a href=\"javascript:void(0);\" id=\"miniQRcode\"></a><span id=\"QRcode\"></span></div><a href=\"javascript:void(0);\" class=\"back-top\" id=\"back-top\"></a></div> <script>var SugPara, uigs_para, msBrowserName = navigator.userAgent.toLowerCase(),msIsSe = false,msIsMSearch = false, hasDoodle = false, queryinput = document.getElementById('query');</script><script>/*file=static/js/indexjs.js*/function indexjsInit(e,o,n,a,t,i,s,u){var r={puid:t,cards:i,cards_sw:s,uigs_cookie:\"SUID,sct,SUV\"};function c(){try{window.external.metasearch(\"make_connection\",\"www.google.com.hk\")}catch(e){}}uigs_para={uigs_productid:\"webapp\",type:\"webindex_new\",stype:e?\"login\":\"nologin\",scrnwi:screen.width,scrnhi:screen.height,uigs_pbtag:\"A\",uigs_cookie:\"SUID,sct\",protocol:\"https:\"==location.protocol.toLowerCase()?\"https\":\"http\"},e&&(uigs_para=Object.assign(uigs_para,r),window.loginCardConfig={show:\"1\"===s,cardTab:[{text:\"推荐\",id:\"card-news-tab\",initFn:\"newsInit\",className:\"cur\"},{text:\"导航\",id:\"card-nav-tab\",initFn:\"navInit\"}]}),SugPara={enableSug:!0,sugType:\"web\",domain:\"w.sugg.sogou.com\",productId:\"web\",sugFormName:\"sf\",inputid:\"query\",submitId:\"stb\",suggestRid:\"01015002\",normalRid:\"01019900\",useParent:0,sugglocation:\"index\",showVr:!0,showHotwords:!0,suggAbtestObject:o},/se 2\\.x/i.test(msBrowserName)&&(msIsSe=!0),/metasr/i.test(msBrowserName)&&(msIsMSearch=!0),queryinput&&msIsSe&&msIsMSearch&&(queryinput.addEventListener?(queryinput.addEventListener(\"keypress\",c,!1),queryinput.addEventListener(\"keydown\",c,!1)):queryinput.attachEvent?(queryinput.attachEvent(\"onkeypress\",c),queryinput.attachEvent(\"onkeydown\",c)):(queryinput.onkeypress=c,queryinput.onkeydown=c)),window.m_s_index=function(){var e=document.sf.query,o=Math.round(1e3*((new Date).getTime()+Math.random()));e.focus(),new RegExp(\"kw=([^&]+)\").test(location.search)&&0==e.value.length&&(e.value=decodeURIComponent(RegExp.$1)),document.cookie.indexOf(\"SUV=\")<0&&(document.cookie=\"SUV=\"+o+\";path=/;expires=Sun, 29 July 2026 00:00:00 UTC;domain=\"+function(){var e=document.domain;return e.indexOf(\"sogou.com\")==e.length-9?\".sogou.com\":e.indexOf(\"soso.com\")==e.length-8?\".soso.com\":-1!=e.indexOf(\"sogo.com\")?\".sogo.com\":void 0}()),n&&((new Image).src=\"//pb6.sogou.com/v6\")},window.st=function(e,o,n,t){var i=document.sf.query,s=encodeURIComponent(i.value),u={news:\"http://news.sogou.com/news?ie=utf8&query=\",web:\"web?ie=utf8&query=\",weixin:\"http://weixin.sogou.com/weixin?type=2&ie=utf8&query=\",zhihu:\"http://zhihu.sogou.com/zhihu?ie=utf8&query=\",pic:\"http://pic.sogou.com/pics?ie=utf8&query=\",video:\"https://v.sogou.com/v?ie=utf8&query=\",myingyi:\"https://www.sogou.com/web?m2web=mingyi.sogou.com&ie=utf8&query=\",overseas:\"http://english.sogou.com?b_o_e=1&ie=utf8&fr=pcweb_index_nav&query=\",scholar:\"http://scholar.sogou.com?ie=utf8&fr=common_index_nav&query=\",fanyi:\"http://fanyi.sogou.com/?fr=common_index_nav_pc&ie=utf8&keyword=\",wenwen:\"http://wenwen.sogou.com/s/?ch=websearch&w=\",dangjian:a},r=u[n]||e.href;function c(e){return-1<e.indexOf(\"?\")?\"&\":\"?\"}i&&\"\"!==i.value&&(u[n]?r=u[n]+s:0<r.indexOf(\"kw=\")?r=r.replace(new RegExp(\"kw=[^&$]*\"),\"kw=\"+s):r+=c(r)+\"kw=\"+s),o&&(r+=c(r)+\"p=\"+o),t&&0<t.length&&(r+=\"#\"+t),!i||\"\"!=i.value||\"wenwen\"!=n&&\"dangjian\"!=n||(r=e.href),e.href=r},window.cid=function(e,o){var n=document.sf.query,t=encodeURIComponent(n.value);t?\"web2ww\"===o?e.href+=\"s/?cid=web2ww&w=\"+t:\"web2bk\"===o&&(e.href+=\"Search.e?sp=S\"+t+\"&cid=web2bk\"):e.href+=\"?cid=\"+o},window.m_s_index()}indexjsInit(false, {\"suggestHistoryStrategy1\":\"\",\"suggestHistoryStrategy2\":\"0|1|2|3|4|5|6|7|8\",\"suggHistoryAbtest\":\"\"}, true, 'http://dangjian.sogou.com/dangjian?query=', 'invaliduser', '', '');</script><script src=\"//dlweb.sogoucdn.com/common/lib/jquery/jquery-1.11.0.min.js\"></script>  <script charset=\"gbk\" type=\"text/javascript\" src=\"/js/sugg_new.v.104.js\"></script>  <script src=\"/js/pb_v.1.9.6.min.js\"></script><script src=\"/js/lib/jquery.mousewheel.min.js\"></script><script src=\"/js/lib/juicer-min.js\"></script>  <script src=\"/js/common/widget/index_login.min.v.0.1.js\"></script><script src=\"//account.sogou.com/static/api/passport-async.js\"></script>   <script src=\"/js/crypto-js.js\"></script><script src=\"/web/index/js/base.v.1.2.2.js\"></script><script src=\"/web/js/voice.min.v.0.1.0.js\"></script><script src=\"/web/js/taspeed.min.v.0.0.1.js\"></script>   </body></html><!--zly-->\n"
     ]
    }
   ],
   "source": [
    "#爬取搜狗网页\n",
    "import requests\n",
    "url=\"https://www.sogou.com/\"#指定URL\n",
    "response = requests.get(url=url)#请求发送get:返回的是response object\n",
    "page_text = response.text#将response object转换为字符串\n",
    "print(page_text )\n",
    "with open(\"搜狗.html\",\"w\",encoding=\"utf-8\") as fp:\n",
    "    fp.write(page_text)"
   ]
  },
  {
   "cell_type": "code",
   "execution_count": 6,
   "metadata": {},
   "outputs": [
    {
     "name": "stdout",
     "output_type": "stream",
     "text": [
      "输入关键字：周杰伦\n",
      "finished\n"
     ]
    }
   ],
   "source": [
    "#简易数据采集器\n",
    "import requests\n",
    "url=\"https://www.sogou.com/web?\"#需要让url携带的参数动态化\n",
    "wd=input(\"输入关键字：\")#参数动态化\n",
    "params = {\n",
    "    \"query\":wd\n",
    "}\n",
    "response = requests.get(url=url,params=params)#加入params参数动态化\n",
    "page_text= response.text\n",
    "fileName=wd+\".html\"\n",
    "with open(fileName,\"w\",encoding=\"utf-8\") as fp:\n",
    "    fp.write(page_text)\n",
    "print(\"finished\")"
   ]
  },
  {
   "cell_type": "markdown",
   "metadata": {},
   "source": [
    "1.出现乱码 & 2.数据量级不对"
   ]
  },
  {
   "cell_type": "code",
   "execution_count": 7,
   "metadata": {},
   "outputs": [
    {
     "name": "stdout",
     "output_type": "stream",
     "text": [
      "输入关键字：周杰伦\n",
      "finished\n"
     ]
    }
   ],
   "source": [
    "#解决乱码\n",
    "import requests\n",
    "url=\"https://www.sogou.com/web?\"\n",
    "wd=input(\"输入关键字：\")\n",
    "params = {\n",
    "    \"query\":wd\n",
    "}\n",
    "response = requests.get(url=url,params=params)\n",
    "response.encoding = \"utf-8\"#修改响应数据编码格式\n",
    "page_text= response.text\n",
    "fileName=wd+\".html\"\n",
    "with open(fileName,\"w\",encoding=\"utf-8\") as fp:\n",
    "    fp.write(page_text)\n",
    "print(\"finished\")"
   ]
  },
  {
   "cell_type": "markdown",
   "metadata": {},
   "source": [
    "UA检测反爬：请求载体的标识是不是浏览器\n",
    "反反爬策略：UA伪装"
   ]
  },
  {
   "cell_type": "code",
   "execution_count": 8,
   "metadata": {},
   "outputs": [
    {
     "name": "stdout",
     "output_type": "stream",
     "text": [
      "输入关键字：周杰伦\n",
      "finished\n"
     ]
    }
   ],
   "source": [
    "#解决UA检测\n",
    "import requests\n",
    "url=\"https://www.sogou.com/web?\"\n",
    "wd=input(\"输入关键字：\")\n",
    "params = {\n",
    "    \"query\":wd\n",
    "}\n",
    "headers = {\n",
    "    \"User-Agent\":\"Mozilla/5.0 (Windows NT 10.0; Win64; x64) AppleWebKit/537.36 (KHTML, like Gecko) Chrome/76.0.3809.100 Safari/537.36\"\n",
    "}#伪装成浏览器\n",
    "response = requests.get(url=url,params=params,headers=headers)#加入headers\n",
    "response.encoding = \"utf-8\"\n",
    "page_text= response.text\n",
    "fileName=wd+\".html\"\n",
    "with open(fileName,\"w\",encoding=\"utf-8\") as fp:\n",
    "    fp.write(page_text)\n",
    "print(\"finished\")"
   ]
  },
  {
   "cell_type": "code",
   "execution_count": 16,
   "metadata": {},
   "outputs": [
    {
     "name": "stdout",
     "output_type": "stream",
     "text": [
      "第几部开始：0\n",
      "想获取多少电影数据500\n",
      "done\n"
     ]
    }
   ],
   "source": [
    "#爬取豆瓣电影的详情数据\n",
    "#https://movie.douban.com/typerank?type_name=%E5%AE%B6%E5%BA%AD&type=28&interval_id=100:90&action=\n",
    "#当滚动条被滑动到页面底部时，页面发生局部刷新(Ajax请求)\n",
    "import requests\n",
    "url=\"https://movie.douban.com/j/chart/top_list?\"\n",
    "#抓包发现get.response的网址\n",
    "#选参数要删除后面的网址部分\n",
    "headers = {\n",
    "    \"User-Agent\":\"Mozilla/5.0 (Windows NT 10.0; Win64; x64) AppleWebKit/537.36 (KHTML, like Gecko) Chrome/76.0.3809.100 Safari/537.36\"\n",
    "}\n",
    "start = input(\"第几部开始：\")\n",
    "limit = input(\"想获取多少电影数据\")\n",
    "dic = {\n",
    "    \"type\":\"28\",\n",
    "    \"interval_id\":\"100:90\",\n",
    "    \"action\":\"\",\n",
    "    \"start\":start,\n",
    "    \"limit\":limit\n",
    "}\n",
    "response = requests.get(url=url,params=dic,headers=headers)\n",
    "page_text = response.json() #json返回的是序列化好的实例对象,一定要加括号，否则200错误\n",
    "#只有确认是json字符串才能用\n",
    "#for dic in page_text:\n",
    "    #print(dic[\"title\"]+\":\"+dic[\"score\"])\n",
    "\n",
    "with open(\"豆瓣电影.xls\",\"w\",encoding=\"utf-8\") as fp:\n",
    "    for dic in page_text:\n",
    "        fp.write(dic[\"title\"]+\":\"+dic[\"score\"]+\"\\n\")\n",
    "print(\"done\")"
   ]
  },
  {
   "cell_type": "markdown",
   "metadata": {},
   "source": [
    "AJax动态加载的页面数据：通过另一个单独请求请求的数据"
   ]
  },
  {
   "cell_type": "code",
   "execution_count": 31,
   "metadata": {},
   "outputs": [
    {
     "name": "stdout",
     "output_type": "stream",
     "text": [
      "请输入城市：北京\n",
      "{'Table': [{'rowcount': 439}], 'Table1': [{'rownum': 1, 'storeName': '前门', 'addressDetail': '西城区前门西大街正阳市场1号楼中部', 'pro': 'Wi-Fi,礼品卡', 'provinceName': '北京市', 'cityName': '北京市'}, {'rownum': 2, 'storeName': '京源', 'addressDetail': '左家庄新源街24号', 'pro': 'Wi-Fi,礼品卡,生日餐会', 'provinceName': '北京市', 'cityName': '北京市'}, {'rownum': 3, 'storeName': '东大桥', 'addressDetail': '朝外大街东大桥路1号楼', 'pro': 'Wi-Fi,店内参观,礼品卡', 'provinceName': '北京市', 'cityName': '北京市'}, {'rownum': 4, 'storeName': '方庄', 'addressDetail': '蒲芳路26号', 'pro': 'Wi-Fi,店内参观,礼品卡,生日餐会', 'provinceName': '北京市', 'cityName': '北京市'}, {'rownum': 5, 'storeName': '安定门', 'addressDetail': '安定门外大街西河沿13号楼', 'pro': 'Wi-Fi,礼品卡,生日餐会', 'provinceName': '北京市', 'cityName': '北京市'}, {'rownum': 6, 'storeName': '航天桥', 'addressDetail': '阜成路51-2', 'pro': '24小时,店内参观', 'provinceName': '北京市', 'cityName': '北京市'}, {'rownum': 7, 'storeName': '展览路(德宝)', 'addressDetail': '西外大街德宝新园14号', 'pro': 'Wi-Fi,店内参观,礼品卡', 'provinceName': '北京市', 'cityName': '北京市'}, {'rownum': 8, 'storeName': '劲松', 'addressDetail': '劲松4区401楼', 'pro': '24小时,Wi-Fi,店内参观,礼品卡,生日餐会', 'provinceName': '北京市', 'cityName': '北京市'}, {'rownum': 9, 'storeName': '西罗园', 'addressDetail': '西罗园4区南二段', 'pro': 'Wi-Fi,店内参观,礼品卡,生日餐会', 'provinceName': '北京市', 'cityName': '北京市'}, {'rownum': 10, 'storeName': '蓝桥', 'addressDetail': '蓝桥餐厅工体北路11－1号', 'pro': '24小时,Wi-Fi,点唱机,礼品卡', 'provinceName': '北京市', 'cityName': '北京市'}]}\n"
     ]
    }
   ],
   "source": [
    "#肯德基餐厅查询\n",
    "#http://www.kfc.com.cn/kfccda/storelist/index.aspx\n",
    "import requests\n",
    "url=\"http://www.kfc.com.cn/kfccda/ashx/GetStoreList.ashx?op=cname\"\n",
    "headers = {\n",
    "    \"User-Agent\":\"Mozilla/5.0 (Windows NT 10.0; Win64; x64) AppleWebKit/537.36 (KHTML, like Gecko) Chrome/76.0.3809.100 Safari/537.36\"\n",
    "}\n",
    "city = input(\"请输入城市：\")\n",
    "for page in range(1,2):\n",
    "    params = {\n",
    "        'cname': '北京',\n",
    "       ' pid': '',\n",
    "       ' pageIndex': str(page),\n",
    "        'pageSize': '10'\n",
    "    }\n",
    "    response = requests.post(url=url,params=params,headers=headers)\n",
    "    print(response.json())"
   ]
  },
  {
   "cell_type": "code",
   "execution_count": 17,
   "metadata": {},
   "outputs": [
    {
     "name": "stdout",
     "output_type": "stream",
     "text": [
      "正在爬取第1页的数据.....\n",
      "北京精采日化有限公司 91110114754188628N\n",
      "北京大宝化妆品有限公司 91110302700216881B\n",
      "河北京鼎生物医药科技有限公司 91130529319875378D\n",
      "北京美浓日用品有限公司 91110115687646317W\n",
      "北京科学城日化有限公司 91110108102063520H\n",
      "北京艾娜璐佳化妆品有限公司 91110116MA00FGTH6C\n",
      "北京章光101科技股份有限公司 911103027002289890\n",
      "北京森根比亚生物工程技术有限公司 91110116793441892U\n",
      "科玛化妆品（北京）有限公司 911101166621529354\n",
      "北京化大化新科技股份有限公司 911100007334480134\n",
      "北京市夏童龄化妆品厂 1102211237249\n",
      "北京本草精华生物科技有限公司 91110114782545565B\n",
      "北京雅美化妆品有限公司 91110112700047897D\n",
      "盛仕铭（北京）化妆品有限公司 9111011310251562XW\n",
      "北京市大宝日用化学制品厂 91110105102165105X\n"
     ]
    }
   ],
   "source": [
    "#http://125.35.6.84:81/xk/\n",
    "#爬取药监总局相关企业详情\n",
    "#每家企业的URL都相同，除了ID不同 \n",
    "#http://125.35.6.84:81/xk/itownet/portal/dzpz.jsp?id=e527592eff254ba19a3e64862bf8d002\n",
    "#通过抓包搜索发现结果从这里请求到的\n",
    "#http://125.35.6.84:81/xk/itownet/portalAction.do?method=getXkzsById\n",
    "import requests\n",
    "url = \"http://125.35.6.84:81/xk/itownet/portalAction.do?method=getXkzsList\"\n",
    "headers = {\n",
    "    \"User-Agent\":\"ozilla/5.0 (Windows NT 10.0; Win64; x64) AppleWebKit/537.36 (KHTML, like Gecko) Chrome/76.0.3809.100 Safari/537.36\"\n",
    "} \n",
    "for page in range(1,2):\n",
    "    print(\"正在爬取第{}页的数据.....\".format(page))\n",
    "    params = {\n",
    "        'on': 'true',\n",
    "        'page': str(page),#一定加str\n",
    "       ' pageSize': '10',\n",
    "        'productName': '北京',\n",
    "        'conditionType': '2',\n",
    "        'applyname': '',\n",
    "        'applysn':''\n",
    "    }\n",
    "    company_id = requests.post(url=url,data=params,headers=headers).json()\n",
    "    #print(company_id)\n",
    "    for dic in company_id[\"list\"]:\n",
    "        #print(dic['EPS_NAME']+':'+dic['PRODUCT_SN'])\n",
    "        _id = dic[\"ID\"]\n",
    "        detail_url = \"http://125.35.6.84:81/xk/itownet/portalAction.do?method=getXkzsById\"\n",
    "        params_2 = {\n",
    "            \"id\":_id\n",
    "        }\n",
    "        detail_data = requests.post(url=detail_url,data=params_2,headers=headers).json()\n",
    "        print(detail_data[\"epsName\"],detail_data[\"businessLicenseNumber\"])"
   ]
  },
  {
   "cell_type": "markdown",
   "metadata": {},
   "source": [
    "# 数据解析-聚焦爬虫\n",
    "实现方式：正则、bs4、xpat、pyquery\n",
    "数据解析的通用原理："
   ]
  },
  {
   "cell_type": "code",
   "execution_count": 35,
   "metadata": {},
   "outputs": [
    {
     "name": "stdout",
     "output_type": "stream",
     "text": [
      "第一回·宴桃园豪杰三结义  斩黄巾英雄首立功 下载成功！\n",
      "第二回·张翼德怒鞭督邮    何国舅谋诛宦竖 下载成功！\n",
      "第三回·议温明董卓叱丁原  馈金珠李肃说吕布 下载成功！\n",
      "第四回·废汉帝陈留践位    谋董贼孟德献刀 下载成功！\n",
      "第五回·发矫诏诸镇应曹公  破关兵三英战吕布 下载成功！\n",
      "第六回·焚金阙董卓行凶    匿玉玺孙坚背约 下载成功！\n",
      "第七回·袁绍磐河战公孙    孙坚跨江击刘表 下载成功！\n",
      "第八回·王司徒巧使连环计  董太师大闹凤仪亭 下载成功！\n",
      "第九回·除暴凶吕布助司徒  犯长安李傕听贾诩 下载成功！\n",
      "第一十回·勤王室马腾举义    报父仇曹操兴师 下载成功！\n"
     ]
    }
   ],
   "source": [
    "#http://www.shicimingju.com/book/sanguoyanyi.html\n",
    "#bs4解析爬取三国整篇文章\n",
    "import requests\n",
    "from bs4 import BeautifulSoup\n",
    "fp = open('sanguo.txt','w',encoding=\"utf-8\")\n",
    "for page in range(1,11):\n",
    "    url = 'http://www.shicimingju.com/book/sanguoyanyi/'+str(page)+'.html'\n",
    "    headers = {\n",
    "        \"User-Agent\":\"ozilla/5.0 (Windows NT 10.0; Win64; x64) AppleWebKit/537.36 (KHTML, like Gecko) Chrome/76.0.3809.100 Safari/537.36\"\n",
    "    }\n",
    "    response = requests.get(url=url,headers=headers)\n",
    "    page_text = response.text\n",
    "    soup = BeautifulSoup(page_text,'lxml')\n",
    "    title = soup.find('h1').text\n",
    "    content = soup.find(\"div\",class_='chapter_content').text\n",
    "    content_clean = ''.join(content.split())\n",
    "    fp.write(title+'\\n'+content_clean+'\\n'+'\\n')\n",
    "    print(title,'下载成功！')"
   ]
  },
  {
   "cell_type": "code",
   "execution_count": 36,
   "metadata": {},
   "outputs": [
    {
     "name": "stdout",
     "output_type": "stream",
     "text": [
      "done\n"
     ]
    }
   ],
   "source": [
    "from lxml import etree\n",
    "print('done')"
   ]
  },
  {
   "cell_type": "code",
   "execution_count": null,
   "metadata": {},
   "outputs": [],
   "source": []
  },
  {
   "cell_type": "code",
   "execution_count": null,
   "metadata": {},
   "outputs": [],
   "source": []
  }
 ],
 "metadata": {
  "kernelspec": {
   "display_name": "Python 3",
   "language": "python",
   "name": "python3"
  },
  "language_info": {
   "codemirror_mode": {
    "name": "ipython",
    "version": 3
   },
   "file_extension": ".py",
   "mimetype": "text/x-python",
   "name": "python",
   "nbconvert_exporter": "python",
   "pygments_lexer": "ipython3",
   "version": "3.7.4"
  }
 },
 "nbformat": 4,
 "nbformat_minor": 2
}
